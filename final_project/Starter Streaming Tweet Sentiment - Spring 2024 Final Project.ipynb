{
 "cells": [
  {
   "cell_type": "markdown",
   "metadata": {
    "application/vnd.databricks.v1+cell": {
     "cellMetadata": {
      "byteLimit": 2048000,
      "rowLimit": 10000
     },
     "inputWidgets": {},
     "nuid": "fc749083-2211-485c-943f-640e198b2c70",
     "showTitle": false,
     "title": ""
    }
   },
   "source": [
    "## DSCC202-402 Data Science at Scale Final Project\n",
    "### Tracking Tweet sentiment at scale using a pretrained transformer (classifier)\n",
    "<p>Consider the following illustration of the end to end system that you will be building.  Each student should do their own work.  The project will demonstrate your understanding of Spark Streaming, the medalion data architecture using Delta Lake, Spark Inference at Scale using an MLflow packaged model as well as Exploritory Data Analysis and System Tracking and Monitoring.</p>\n",
    "<br><br>\n",
    "<img src=\"https://data-science-at-scale.s3.amazonaws.com/images/pipeline.drawio.png\">\n",
    "\n",
    "<p>\n",
    "You will be pulling an updated copy of the course GitHub repositiory: <a href=\"https://github.com/lpalum/dscc202-402-spring2024\">The Repo</a>.  If you are unclear on how to pull an updated copy using the GitHub command line, the following <a href=\"https://techwritingmatters.com/how-to-update-your-forked-repository-on-github\">document</a> is helpful.  Be sure to add the professors and TAs as collaborators on your project. \n",
    "\n",
    "- lpalum@gmail.com GitHub ID: lpalum\n",
    "- ajay.anand@rochester.edu GitHub ID: ajayan12\n",
    "- divyamunot1999@gmail.com GitHub ID: divyamunot\n",
    "- ylong6@u.Rochester.edu GitHub ID: NinaLong2077\n",
    "\n",
    "Once you have updates your fork of the repository you should see the following template project that is resident in the final_project directory.\n",
    "</p>\n",
    "\n",
    "<img src=\"https://data-science-at-scale.s3.amazonaws.com/images/notebooks.drawio.png\">\n",
    "\n",
    "<p>\n",
    "You can then pull your project into the Databrick Workspace using the <a href=\"https://www.databricks.training/step-by-step/importing-courseware-from-github/index.html\">Repos</a> feature.\n",
    "Each student is expected to submit the URL of their project on GitHub with their code checked in on the main/master branch.  This illustration highlights the branching scheme that you may use to work on your code in steps and then merge your submission into your master branch before submitting.\n",
    "</p>\n",
    "<img src=\"https://data-science-at-scale.s3.amazonaws.com/images/github.drawio.png\">\n",
    "<p>\n",
    "Work your way through this notebook which will give you the steps required to submit a complete and compliant project.  The following illustration and associated data dictionary specifies the transformations and data that you are to generate for each step in the medallion pipeline.\n",
    "</p>\n",
    "<br><br>\n",
    "<img src=\"https://data-science-at-scale.s3.amazonaws.com/images/dataframes.drawio.png\">\n",
    "\n",
    "#### Bronze Data - raw ingest\n",
    "- date - string in the source json\n",
    "- user - string in the source json\n",
    "- text - tweet string in the source json\n",
    "- sentiment - the given sentiment of the text as determined by an unknown model that is provided in the source json\n",
    "- source_file - the path of the source json file the this row of data was read from\n",
    "- processing_time - a timestamp of when you read this row from the source json\n",
    "\n",
    "#### Silver Data - Bronze Preprocessing\n",
    "- timestamp - convert date string in the bronze data to a timestamp\n",
    "- mention - every @username mentioned in the text string in the bronze data gets a row in this silver data table.\n",
    "- cleaned_text - the bronze text data with the mentions (@username) removed.\n",
    "- sentiment - the given sentiment that was associated with the text in the bronze table.\n",
    "\n",
    "#### Gold Data - Silver Table Inference\n",
    "- timestamp - the timestamp from the silver data table rows\n",
    "- mention - the mention from the silver data table rows\n",
    "- cleaned_text - the cleaned_text from the silver data table rows\n",
    "- sentiment - the given sentiment from the silver data table rows\n",
    "- predicted_score - score out of 100 from the Hugging Face Sentiment Transformer\n",
    "- predicted_sentiment - string representation of the sentiment\n",
    "- sentiment_id - 0 for negative and 1 for postive associated with the given sentiment\n",
    "- predicted_sentiment_id - 0 for negative and 1 for positive assocaited with the Hugging Face Sentiment Transformer\n",
    "\n",
    "#### Application Data - Gold Table Aggregation\n",
    "- min_timestamp - the oldest timestamp on a given mention (@username)\n",
    "- max_timestamp - the newest timestamp on a given mention (@username)\n",
    "- mention - the user (@username) that this row pertains to.\n",
    "- negative - total negative tweets directed at this mention (@username)\n",
    "- neutral - total neutral tweets directed at this mention (@username)\n",
    "- positive - total positive tweets directed at this mention (@username)\n",
    "\n",
    "When you are designing your approach, one of the main decisions that you will need to make is how you are going to orchestrate the streaming data processing in your pipeline.  There are several valid approaches.  First, you may choose to start the bronze_stream and let it complete (read and append all of the source data) before preceeding and starting up the silver_stream.  This approach has latency associated with it but it will allow your code to proceed in a linear fashion and process all the data by the end of your notebook execution.  Another potential approach is to start all the streams and have a \"watch\" method to determine when the pipeline has processed sufficient or all of the source data before stopping and displaying results.  Both of these approaches are valid and have different implications on how you will trigger your steams and how you will gate the execution of your pipeline.  Think through how you want to proceed and ask questions if you need guidance. The following references may be helpful:\n",
    "- [Spark Structured Streaming Programming Guide](https://spark.apache.org/docs/latest/structured-streaming-programming-guide.html)\n",
    "- [Databricks Autoloader - Cloudfiles](https://docs.databricks.com/en/ingestion/auto-loader/index.html)\n",
    "\n",
    "### Be sure that your project runs end to end when *Run all* is executued on this notebook! (15 Points out of 60)"
   ]
  },
  {
   "cell_type": "code",
   "execution_count": 0,
   "metadata": {
    "application/vnd.databricks.v1+cell": {
     "cellMetadata": {
      "byteLimit": 2048000,
      "rowLimit": 10000
     },
     "inputWidgets": {},
     "nuid": "068f25d0-1387-4342-89cf-ce82a8d614ce",
     "showTitle": true,
     "title": "Pull in the Includes & Utiltites"
    }
   },
   "outputs": [],
   "source": [
    "%run ./includes/includes"
   ]
  },
  {
   "cell_type": "code",
   "execution_count": 0,
   "metadata": {
    "application/vnd.databricks.v1+cell": {
     "cellMetadata": {
      "byteLimit": 2048000,
      "rowLimit": 10000
     },
     "inputWidgets": {},
     "nuid": "6512bf1b-50e0-4a4b-84a9-e280a6260b56",
     "showTitle": true,
     "title": "Notebook Control Widgets (maybe helpful)"
    }
   },
   "outputs": [],
   "source": [
    "\"\"\"\n",
    "Adding a widget to the notebook to control the clearing of a previous run.\n",
    "or stopping the active streams using routines defined in the utilities notebook\n",
    "\"\"\"\n",
    "dbutils.widgets.removeAll()\n",
    "\n",
    "dbutils.widgets.dropdown(\"clear_previous_run\", \"No\", [\"No\",\"Yes\"])\n",
    "if (getArgument(\"clear_previous_run\") == \"Yes\"):\n",
    "    clear_previous_run()\n",
    "    print(\"Cleared all previous data.\")\n",
    "\n",
    "dbutils.widgets.dropdown(\"stop_streams\", \"No\", [\"No\",\"Yes\"])\n",
    "if (getArgument(\"stop_streams\") == \"Yes\"):\n",
    "    stop_all_streams()\n",
    "    print(\"Stopped all active streams.\")\n",
    "\n",
    "from delta import *\n",
    "dbutils.widgets.dropdown(\"optimize_tables\", \"No\", [\"No\",\"Yes\"])\n",
    "if (getArgument(\"optimize_tables\") == \"Yes\"):\n",
    "    # Suck up those small files that we have been appending.\n",
    "    DeltaTable.forPath(spark, BRONZE_DELTA).optimize().executeCompaction()\n",
    "    # Suck up those small files that we have been appending.\n",
    "    DeltaTable.forPath(spark, SILVER_DELTA).optimize().executeCompaction()\n",
    "    # Suck up those small files that we have been appending.\n",
    "    DeltaTable.forPath(spark, GOLD_DELTA).optimize().executeCompaction()\n",
    "    print(\"Optimized all of the Delta Tables\")"
   ]
  },
  {
   "cell_type": "code",
   "execution_count": null,
   "metadata": {},
   "outputs": [],
   "source": [
    "\n",
    "dbutils.library.restartPython()\n",
    "from pyspark.sql.types import StructType, StructField, StringType, TimestampType\n",
    "\n",
    "import time\n",
    "# Set the notebooks starting time.\n",
    "START_TIME = time.time()\n",
    "\n",
    "#/Volumes/voc_catalog/default/voc_volume\n",
    "# Specify the bucket name, url, and path\n",
    "TWEET_BUCKET_NAME = 'voc-75-databricks-data'\n",
    "TWEET_BUCKET_URL = f\"https://{TWEET_BUCKET_NAME}.s3.amazonaws.com/\"\n",
    "TWEET_SOURCE_PATH = f\"s3a://{TWEET_BUCKET_NAME}/voc_volume/\"\n",
    "\n",
    "# setup storage for this user\n",
    "#username = spark.sql(\"SELECT regexp_replace(current_user(), '[^a-zA-Z0-9]', '_')\").first()[0]\n",
    "\n",
    "USER_NAME = dbutils.notebook.entry_point.getDbutils().notebook().getContext().userName().get().split('@')[0]\n",
    "USER_DIR = f'/tmp/{USER_NAME}/'\n",
    "\n",
    "BRONZE_CHECKPOINT = USER_DIR + 'bronze.checkpoint'\n",
    "BRONZE_DELTA = USER_DIR + 'bronze.delta'\n",
    "\n",
    "SILVER_CHECKPOINT = USER_DIR + 'silver.checkpoint'\n",
    "SILVER_DELTA = USER_DIR + 'silver.delta'\n",
    "\n",
    "GOLD_CHECKPOINT = USER_DIR + 'gold.checkpoint'\n",
    "GOLD_DELTA = USER_DIR + 'gold.delta'\n",
    "\n",
    "MODEL_NAME = \"HF_TWEET_SENTIMENT\" #USER_NAME + \"_Model\"\n",
    "\n",
    "# https://huggingface.co/finiteautomata/bertweet-base-sentiment-analysis\n",
    "HF_MODEL_NAME = \"finiteautomata/bertweet-base-sentiment-analysis\"\n",
    "\n",
    "\n",
    "from pyspark.sql.session import SparkSession\n",
    "import time\n",
    "import boto3, botocore\n",
    "import pandas as pd\n",
    "\n",
    "# Return a data frame with the files in the source directory\n",
    "def get_source_listing_df() -> pd.DataFrame:\n",
    "    # Create a boto3 resource for S3 using anonymous credentials\n",
    "    s3 = boto3.resource('s3', config=boto3.session.Config(signature_version=botocore.UNSIGNED))\n",
    "\n",
    "    # Create a Bucket object\n",
    "    bucket = s3.Bucket(TWEET_BUCKET_NAME)\n",
    "\n",
    "    # List objects in the bucket\n",
    "    objects = [obj.key for obj in bucket.objects.all()]\n",
    "\n",
    "    # Convert the list of objects to a Pandas DataFrame\n",
    "    df = pd.DataFrame(objects, columns=['File Name'])\n",
    "\n",
    "    return df\n",
    "\n",
    "# Show the contents of a file stored in S3\n",
    "def show_s3_file_contents(filename: str) -> str:\n",
    "    # Create a boto3 resource for S3 using anonymous credentials\n",
    "    s3 = boto3.resource('s3', config=boto3.session.Config(signature_version=botocore.UNSIGNED))\n",
    "    # Show the first record\n",
    "    obj = s3.Object(TWEET_BUCKET_NAME, filename)\n",
    "    data=obj.get()['Body'].read()\n",
    "    return(data)\n",
    "\n",
    "# This routine requires the paths defined in the includes notebook\n",
    "# and it clears data from the previous run.\n",
    "def clear_previous_run() -> bool:\n",
    "    # delete previous run \n",
    "    dbutils.fs.rm(BRONZE_CHECKPOINT, True)\n",
    "    dbutils.fs.rm(BRONZE_DELTA, True)\n",
    "    dbutils.fs.rm(SILVER_CHECKPOINT, True)\n",
    "    dbutils.fs.rm(SILVER_DELTA, True)\n",
    "    dbutils.fs.rm(GOLD_CHECKPOINT, True)\n",
    "    dbutils.fs.rm(GOLD_DELTA, True)\n",
    "    return True\n",
    "\n",
    "def stop_all_streams() -> bool:\n",
    "    stopped = False\n",
    "    for stream in spark.streams.active:\n",
    "        stopped = True\n",
    "        stream.stop()\n",
    "    return stopped\n",
    "\n",
    "\n",
    "def stop_named_stream(spark: SparkSession, namedStream: str) -> bool:\n",
    "    stopped = False\n",
    "    for stream in spark.streams.active:\n",
    "        if stream.name == namedStream:\n",
    "            stopped = True \n",
    "            stream.stop()\n",
    "    return stopped\n",
    "\n",
    "def wait_stream_start(spark: SparkSession, namedStream: str) -> bool:\n",
    "    started = False\n",
    "    count = 0\n",
    "    if started == False and count <= 3:\n",
    "        for stream in spark.streams.active:\n",
    "            if stream.name == namedStream:\n",
    "                started = True\n",
    "        count += 1\n",
    "        time.sleep(10)\n",
    "    return started    \n",
    "\n",
    "from pyspark.sql.types import StructType, StructField, StringType, TimestampType\n"
   ]
  },
  {
   "cell_type": "markdown",
   "metadata": {
    "application/vnd.databricks.v1+cell": {
     "cellMetadata": {
      "byteLimit": 2048000,
      "rowLimit": 10000
     },
     "inputWidgets": {},
     "nuid": "e8ce7c13-7f8f-4e11-b50c-fdaebbcf3f99",
     "showTitle": false,
     "title": ""
    }
   },
   "source": [
    "## 1.0 Import your libraries here...\n",
    "- Are your shuffle partitions consistent with your cluster and your workload?\n",
    "- Do you have the necessary libraries to perform the required operations in the pipeline/application?"
   ]
  },
  {
   "cell_type": "code",
   "execution_count": 0,
   "metadata": {
    "application/vnd.databricks.v1+cell": {
     "cellMetadata": {
      "byteLimit": 2048000,
      "rowLimit": 10000
     },
     "inputWidgets": {},
     "nuid": "67bafbb7-d34e-4e86-b159-b2e062faa1d0",
     "showTitle": false,
     "title": ""
    }
   },
   "outputs": [
    {
     "data": {
      "application/vnd.databricks.v1+bamboolib_hint": "{\"pd.DataFrames\": [], \"version\": \"0.0.1\"}",
      "text/plain": []
     },
     "metadata": {},
     "output_type": "display_data"
    },
    {
     "data": {
      "text/html": [
       "\n",
       "<H2>VERY IMPORTANT TO UNDERSTAND THE USE OF THESE VARIABLES!<br> Please ask if you are confused about their use.</H2>\n",
       "<table border=1>\n",
       "<tr><td><b>Variable Name</b></td><td><b>Value</b></td><td><b>Description</b></td></tr>\n",
       "<tr><td>TWEET_BUCKET_NAME</td><td>voc-75-databricks-data</td><td>AWS S3 Bucket Name where the tweets are coming into your system.</td></tr>\n",
       "<tr><td>TWEET_BUCKET_URL</td><td>https://voc-75-databricks-data.s3.amazonaws.com/</td><td>AWS S3 Bucket URL where the tweets are coming into your system.</td></tr>\n",
       "<tr><td>TWEET_SOURCE_PATH</td><td>s3a://voc-75-databricks-data/voc_volume/</td><td>AWS S3 Path where the tweets are coming into your system.</td></tr>\n",
       "<tr><td>USER_DIR</td><td>/tmp/labuser104917-2387441/</td><td>Path to the local storage (dbfs) for your project.</td></tr>\n",
       "<tr><td>BRONZE_CHECKPOINT</td><td>/tmp/labuser104917-2387441/bronze.checkpoint</td><td>Store your Bronze Checkpoint data here.</td></tr>\n",
       "<tr><td>BRONZE_DELTA</td><td>/tmp/labuser104917-2387441/bronze.delta</td><td>Store your Bronze Delta Table here.</td></tr>\n",
       "<tr><td>SILVER_CHECKPOINT</td><td>/tmp/labuser104917-2387441/silver.checkpoint</td><td>Store your Silver Checkpoint data here.</td></tr>\n",
       "<tr><td>SILVER_DELTA</td><td>/tmp/labuser104917-2387441/silver.delta</td><td>Store your Silver Delta Table here.</td></tr>\n",
       "<tr><td>GOLD_CHECKPOINT</td><td>/tmp/labuser104917-2387441/gold.checkpoint</td><td>Store your Gold Checkpoint data here.</td></tr>\n",
       "<tr><td>GOLD_DELTA</td><td>/tmp/labuser104917-2387441/gold.delta</td><td>Store your Gold Delta Table here.</td></tr>\n",
       "<tr><td>MODEL_NAME</td><td>HF_TWEET_SENTIMENT</td><td>Load this production model</td></tr>\n",
       "<tr><td>HF_MODEL_NAME</td><td>finiteautomata/bertweet-base-sentiment-analysis</td><td>The Hugging Face Model for Tweet sentiment classification: https://huggingface.co/finiteautomata/bertweet-base-sentiment-analysis </td></tr>\n",
       "</table>\n"
      ]
     },
     "metadata": {
      "application/vnd.databricks.v1+output": {
       "addedWidgets": {},
       "arguments": {},
       "data": "\n<H2>VERY IMPORTANT TO UNDERSTAND THE USE OF THESE VARIABLES!<br> Please ask if you are confused about their use.</H2>\n<table border=1>\n<tr><td><b>Variable Name</b></td><td><b>Value</b></td><td><b>Description</b></td></tr>\n<tr><td>TWEET_BUCKET_NAME</td><td>voc-75-databricks-data</td><td>AWS S3 Bucket Name where the tweets are coming into your system.</td></tr>\n<tr><td>TWEET_BUCKET_URL</td><td>https://voc-75-databricks-data.s3.amazonaws.com/</td><td>AWS S3 Bucket URL where the tweets are coming into your system.</td></tr>\n<tr><td>TWEET_SOURCE_PATH</td><td>s3a://voc-75-databricks-data/voc_volume/</td><td>AWS S3 Path where the tweets are coming into your system.</td></tr>\n<tr><td>USER_DIR</td><td>/tmp/labuser104917-2387441/</td><td>Path to the local storage (dbfs) for your project.</td></tr>\n<tr><td>BRONZE_CHECKPOINT</td><td>/tmp/labuser104917-2387441/bronze.checkpoint</td><td>Store your Bronze Checkpoint data here.</td></tr>\n<tr><td>BRONZE_DELTA</td><td>/tmp/labuser104917-2387441/bronze.delta</td><td>Store your Bronze Delta Table here.</td></tr>\n<tr><td>SILVER_CHECKPOINT</td><td>/tmp/labuser104917-2387441/silver.checkpoint</td><td>Store your Silver Checkpoint data here.</td></tr>\n<tr><td>SILVER_DELTA</td><td>/tmp/labuser104917-2387441/silver.delta</td><td>Store your Silver Delta Table here.</td></tr>\n<tr><td>GOLD_CHECKPOINT</td><td>/tmp/labuser104917-2387441/gold.checkpoint</td><td>Store your Gold Checkpoint data here.</td></tr>\n<tr><td>GOLD_DELTA</td><td>/tmp/labuser104917-2387441/gold.delta</td><td>Store your Gold Delta Table here.</td></tr>\n<tr><td>MODEL_NAME</td><td>HF_TWEET_SENTIMENT</td><td>Load this production model</td></tr>\n<tr><td>HF_MODEL_NAME</td><td>finiteautomata/bertweet-base-sentiment-analysis</td><td>The Hugging Face Model for Tweet sentiment classification: https://huggingface.co/finiteautomata/bertweet-base-sentiment-analysis </td></tr>\n</table>\n",
       "datasetInfos": [],
       "metadata": {},
       "removedWidgets": [],
       "textData": null,
       "type": "htmlSandbox"
      }
     },
     "output_type": "display_data"
    },
    {
     "name": "stdout",
     "output_type": "stream",
     "text": [
      "the includes are included\n"
     ]
    }
   ],
   "source": [
    "# ENTER YOUR CODE HERE\n",
    "# Essential Spark libraries\n",
    "from pyspark.sql import SparkSession\n",
    "from pyspark.sql.functions import *\n",
    "from pyspark.sql.types import *\n",
    "\n",
    "# Delta Lake for data management within Spark\n",
    "from delta.tables import *\n",
    "\n",
    "# MLflow for model tracking and management\n",
    "import mlflow\n",
    "from mlflow.tracking import MlflowClient\n",
    "\n",
    "# Libraries for handling JSON data and requests (if accessing APIs or similar)\n",
    "import json\n",
    "import requests\n",
    "\n",
    "# For advanced data handling with Pandas (if necessary)\n",
    "import pandas as pd\n",
    "\n",
    "# For datetime operations\n",
    "from datetime import datetime\n",
    "\n",
    "# Importing specific machine learning models and transformers from Hugging Face\n",
    "from transformers import AutoModelForSequenceClassification, AutoTokenizer\n"
   ]
  },
  {
   "cell_type": "markdown",
   "metadata": {
    "application/vnd.databricks.v1+cell": {
     "cellMetadata": {
      "byteLimit": 2048000,
      "rowLimit": 10000
     },
     "inputWidgets": {},
     "nuid": "2b7624b4-0aa5-46b7-9767-52f462b2c574",
     "showTitle": false,
     "title": ""
    }
   },
   "source": [
    "## 2.0 Use the utility functions to ...\n",
    "- Read the source file directory listing\n",
    "- Count the source files (how many are there?)\n",
    "- print the contents of one of the files"
   ]
  },
  {
   "cell_type": "code",
   "execution_count": 0,
   "metadata": {
    "application/vnd.databricks.v1+cell": {
     "cellMetadata": {
      "byteLimit": 2048000,
      "rowLimit": 10000
     },
     "inputWidgets": {},
     "nuid": "a59749d5-e45d-460f-9be1-33652cda2ea5",
     "showTitle": false,
     "title": ""
    }
   },
   "outputs": [],
   "source": [
    "# ENTER YOUR CODE HERE\n",
    "source_files_df = get_source_listing_df()\n",
    "\n",
    "# Display the DataFrame to see the listing\n",
    "print(\"Directory Listing:\")\n",
    "print(source_files_df)\n",
    "\n",
    "# Count the source files\n",
    "file_count = len(source_files_df)\n",
    "print(f\"Total number of source files: {file_count}\")\n",
    "\n",
    "# Print the contents of one of the files if there are any files\n",
    "if file_count > 0:\n",
    "    # Get the first file name from the DataFrame\n",
    "    filename = source_files_df.iloc[0]['File Name']\n",
    "    print(f\"Contents of the file {filename}:\")\n",
    "    file_contents = show_s3_file_contents(filename)\n",
    "    print(file_contents)\n",
    "else:\n",
    "    print(\"No files found in the directory.\")\n"
   ]
  },
  {
   "cell_type": "markdown",
   "metadata": {
    "application/vnd.databricks.v1+cell": {
     "cellMetadata": {
      "byteLimit": 2048000,
      "rowLimit": 10000
     },
     "inputWidgets": {},
     "nuid": "1676aed7-527f-4ea7-9d3b-52544e8c1e37",
     "showTitle": false,
     "title": ""
    }
   },
   "source": [
    "## 3.0 Transform the Raw Data to Bronze Data using a stream\n",
    "- define the schema for the raw data\n",
    "- setup a read stream using cloudfiles and the source data format\n",
    "- setup a write stream using cloudfiles to append to the bronze delta table\n",
    "- enforce schema\n",
    "- allow a new schema to be merged into the bronze delta table\n",
    "- Use the defined BRONZE_CHECKPOINT and BRONZE_DELTA paths defines in the includes\n",
    "- name your raw to bronze stream as bronze_stream\n",
    "- transform the raw data to the bronze data using the data definition at the top of the notebook"
   ]
  },
  {
   "cell_type": "code",
   "execution_count": 0,
   "metadata": {
    "application/vnd.databricks.v1+cell": {
     "cellMetadata": {
      "byteLimit": 2048000,
      "rowLimit": 10000
     },
     "inputWidgets": {},
     "nuid": "c4e37574-9885-4908-bf97-609d140a8818",
     "showTitle": false,
     "title": ""
    }
   },
   "outputs": [],
   "source": [
    "# ENTER YOUR CODE HERE\n",
    "from pyspark.sql.types import StructType, StructField, StringType, TimestampType\n",
    "\n",
    "# Define the schema for raw data\n",
    "schema = StructType([\n",
    "    StructField(\"id\", StringType(), True),\n",
    "    StructField(\"text\", StringType(), True),\n",
    "    StructField(\"created_at\", TimestampType(), True),\n",
    "    StructField(\"user_id\", StringType(), True),\n",
    "    StructField(\"user_name\", StringType(), True),\n",
    "])\n",
    "\n",
    "# Setup the read stream\n",
    "source_path = TWEET_SOURCE_PATH\n",
    "read_stream = (\n",
    "    spark.readStream\n",
    "    .format(\"cloudFiles\")\n",
    "    .option(\"cloudFiles.format\", \"json\")\n",
    "    .schema(schema)\n",
    "    .load(source_path)\n",
    ")\n",
    "\n",
    "# Setup the write stream\n",
    "checkpoint_path = BRONZE_CHECKPOINT\n",
    "output_path = BRONZE_DELTA\n",
    "bronze_stream = (\n",
    "    read_stream\n",
    "    .writeStream\n",
    "    .format(\"delta\")\n",
    "    .option(\"checkpointLocation\", checkpoint_path)\n",
    "    .option(\"path\", output_path)\n",
    "    .outputMode(\"append\")\n",
    "    .option(\"mergeSchema\", \"true\")\n",
    "    .queryName(\"bronze_stream\")\n",
    "    .start()\n",
    ")"
   ]
  },
  {
   "cell_type": "markdown",
   "metadata": {
    "application/vnd.databricks.v1+cell": {
     "cellMetadata": {
      "byteLimit": 2048000,
      "rowLimit": 10000
     },
     "inputWidgets": {},
     "nuid": "9bc3e824-d218-43e5-a43b-4c6dbe31950d",
     "showTitle": false,
     "title": ""
    }
   },
   "source": [
    "## 4.0 Bronze Data Exploratory Data Analysis\n",
    "- How many tweets are captured in your Bronze Table?\n",
    "- Are there any columns that contain Nan or Null values?  If so how many and what will you do in your silver transforms to address this?\n",
    "- Count the number of tweets by each unique user handle and sort the data by descending count.\n",
    "- How many tweets have at least one mention (@) how many tweet have no mentions (@)\n",
    "- Plot a bar chart that shows the top 20 tweeters (users)\n"
   ]
  },
  {
   "cell_type": "code",
   "execution_count": 0,
   "metadata": {
    "application/vnd.databricks.v1+cell": {
     "cellMetadata": {
      "byteLimit": 2048000,
      "rowLimit": 10000
     },
     "inputWidgets": {},
     "nuid": "091ec59c-d968-4acf-b56f-cc9178cd0693",
     "showTitle": false,
     "title": ""
    }
   },
   "outputs": [],
   "source": [
    "# ENTER YOUR CODE HERE\n",
    "from pyspark.sql.types import StructType, StructField, StringType, TimestampType\n",
    "\n",
    "from pyspark.sql import functions as F\n",
    "from pyspark.sql.functions import col, isnan, when, count\n",
    "\n",
    "# Load the bronze Delta Table\n",
    "bronze_df = spark.read.format(\"delta\").load(BRONZE_DELTA)\n",
    "\n",
    "# Task 1: How many tweets are captured in your Bronze Table?\n",
    "total_tweets = bronze_df.count()\n",
    "print(f\"Total tweets in Bronze Table: {total_tweets}\")\n",
    "\n",
    "# Updated Task 2: Check for Null values, excluding NaN check for non-numeric data types\n",
    "nan_null_counts = bronze_df.select([\n",
    "    count(when(\n",
    "        (col(c).isNull()) | \n",
    "        ((col(c).cast(\"double\").isNotNull()) & isnan(col(c).cast(\"double\"))), c)\n",
    "    ).alias(c) for c in bronze_df.columns])\n",
    "nan_null_counts.show()\n",
    "\n",
    "# Suggest a remedy for NaN/Null values for silver transforms\n",
    "print(\"Remedy: Replace NaN/Null values with default values or drop the rows/columns based on the analysis needs.\")\n",
    "\n",
    "# Task 3: Count the number of tweets by each unique user handle and sort the data by descending count\n",
    "tweet_counts_by_user = bronze_df.groupBy(\"user_name\").count().orderBy(F.desc(\"count\"))\n",
    "tweet_counts_by_user.show()\n",
    "\n",
    "# Task 4: Calculate the number of tweets with and without mentions\n",
    "tweets_with_mentions = bronze_df.filter(bronze_df[\"text\"].contains(\"@\")).count()\n",
    "tweets_without_mentions = total_tweets - tweets_with_mentions\n",
    "print(f\"Tweets with mentions: {tweets_with_mentions}\")\n",
    "print(f\"Tweets without mentions: {tweets_without_mentions}\")\n",
    "\n",
    "# Task 5: Plot a bar chart of the top 20 tweeters\n",
    "import matplotlib.pyplot as plt\n",
    "\n",
    "\n",
    "# First, convert the Spark DataFrame to a Pandas DataFrame for plotting\n",
    "top_tweeters = tweet_counts_by_user.withColumn(\"user_name\", F.col(\"user_name\").cast(\"string\")) \\\n",
    "    .na.drop(subset=[\"user_name\"]) \\\n",
    "    .limit(20).toPandas()\n",
    "\n",
    "# Plotting the bar chart\n",
    "plt.figure(figsize=(12, 8))  # Set the figure size\n",
    "plt.bar(top_tweeters['user_name'], top_tweeters['count'], color='blue')  # Create a bar chart\n",
    "plt.xlabel('User Name')  # Label on X-axis\n",
    "plt.ylabel('Number of Tweets')  # Label on Y-axis\n",
    "plt.title('Top 20 Tweeters')  # Title of the plot\n",
    "plt.xticks(rotation=45, ha=\"right\")  # Rotate x-axis labels for better visibility\n",
    "plt.tight_layout()  # Automatically adjust subplot parameters to give specified padding\n",
    "plt.show()  # Display the plot"
   ]
  },
  {
   "cell_type": "markdown",
   "metadata": {
    "application/vnd.databricks.v1+cell": {
     "cellMetadata": {
      "byteLimit": 2048000,
      "rowLimit": 10000
     },
     "inputWidgets": {},
     "nuid": "38c290b9-a42a-4551-857b-3f461b8a1be6",
     "showTitle": false,
     "title": ""
    }
   },
   "source": [
    "## 5.0 Transform the Bronze Data to Silver Data using a stream\n",
    "- setup a read stream on your bronze delta table\n",
    "- setup a write stream to append to the silver delta table\n",
    "- Use the defined SILVER_CHECKPOINT and SILVER_DELTA paths in the includes\n",
    "- name your bronze to silver stream as silver_stream\n",
    "- transform the bronze data to the silver data using the data definition at the top of the notebook"
   ]
  },
  {
   "cell_type": "code",
   "execution_count": 0,
   "metadata": {
    "application/vnd.databricks.v1+cell": {
     "cellMetadata": {
      "byteLimit": 2048000,
      "rowLimit": 10000
     },
     "inputWidgets": {},
     "nuid": "65b029cb-ba45-4625-a9c1-d0d410a4962b",
     "showTitle": false,
     "title": ""
    }
   },
   "outputs": [],
   "source": [
    "# ENTER YOUR CODE HERE\n",
    "from pyspark.sql.functions import col\n",
    "\n",
    "# Read stream setup from Bronze Delta Table\n",
    "bronze_df = spark.readStream.format(\"delta\").option(\"path\", BRONZE_DELTA).load()\n",
    "\n",
    "# Data transformations as defined in your notebook\n",
    "transformed_bronze_df = bronze_df.filter(col(\"user_name\").isNotNull() & (col(\"user_name\") != \"\"))\n",
    "\n",
    "# Write stream setup to append to the Silver Delta Table\n",
    "silver_stream = (\n",
    "    transformed_bronze_df\n",
    "    .writeStream\n",
    "    .format(\"delta\")\n",
    "    .option(\"checkpointLocation\", SILVER_CHECKPOINT)\n",
    "    .option(\"path\", SILVER_DELTA)\n",
    "    .outputMode(\"append\")\n",
    "    .queryName(\"silver_stream\")\n",
    "    .start()\n",
    ")\n"
   ]
  },
  {
   "cell_type": "markdown",
   "metadata": {
    "application/vnd.databricks.v1+cell": {
     "cellMetadata": {
      "byteLimit": 2048000,
      "rowLimit": 10000
     },
     "inputWidgets": {},
     "nuid": "9ee38aba-e340-4766-8339-71ef2ecfde3a",
     "showTitle": false,
     "title": ""
    }
   },
   "source": [
    "## 6.0 Transform the Silver Data to Gold Data using a stream\n",
    "- setup a read stream on your silver delta table\n",
    "- setup a write stream to append to the gold delta table\n",
    "- Use the defined GOLD_CHECKPOINT and GOLD_DELTA paths defines in the includes\n",
    "- name your silver to gold stream as gold_stream\n",
    "- transform the silver data to the gold data using the data definition at the top of the notebook\n",
    "- Load the pretrained transformer sentiment classifier from the MODEL_NAME at the production level from the MLflow registry\n",
    "- Use a spark UDF to parallelize the inference across your silver data"
   ]
  },
  {
   "cell_type": "code",
   "execution_count": 0,
   "metadata": {
    "application/vnd.databricks.v1+cell": {
     "cellMetadata": {
      "byteLimit": 2048000,
      "rowLimit": 10000
     },
     "inputWidgets": {},
     "nuid": "31e8949d-c016-44a7-9f03-65f471dfd22d",
     "showTitle": false,
     "title": ""
    }
   },
   "outputs": [],
   "source": [
    "# ENTER YOUR CODE HERE\n",
    "from pyspark.sql.functions import col, udf\n",
    "from pyspark.sql.types import StringType\n",
    "import mlflow.pyfunc\n",
    "\n",
    "# Read from the silver delta table\n",
    "silver_df = spark.readStream.format(\"delta\").option(\"path\", SILVER_DELTA).load()\n",
    "\n",
    "# Load the model from MLflow\n",
    "model_uri = f\"models:/{MODEL_NAME}/Production\"\n",
    "sentiment_model = mlflow.pyfunc.spark_udf(spark, model_uri=model_uri, result_type=StringType())\n",
    "\n",
    "# UDF to apply the model\n",
    "@udf(StringType())\n",
    "def analyze_sentiment(text):\n",
    "    try:\n",
    "        return sentiment_model.predict(text)\n",
    "    except Exception as e:\n",
    "        return str(e)  # Error handling\n",
    "\n",
    "# Transform silver data by applying the UDF\n",
    "gold_df = silver_df.withColumn(\"sentiment\", analyze_sentiment(col(\"text\")))\n",
    "\n",
    "# Write transformed data to the gold delta table\n",
    "gold_stream = (\n",
    "    gold_df\n",
    "    .writeStream\n",
    "    .format(\"delta\")\n",
    "    .option(\"checkpointLocation\", GOLD_CHECKPOINT)\n",
    "    .option(\"path\", GOLD_DELTA)\n",
    "    .outputMode(\"append\")\n",
    "    .queryName(\"gold_stream\")\n",
    "    .start()\n",
    ")"
   ]
  },
  {
   "cell_type": "markdown",
   "metadata": {
    "application/vnd.databricks.v1+cell": {
     "cellMetadata": {
      "byteLimit": 2048000,
      "rowLimit": 10000
     },
     "inputWidgets": {},
     "nuid": "0494d8b4-5a55-47fc-af12-47325f34a303",
     "showTitle": false,
     "title": ""
    }
   },
   "source": [
    "## 7.0 Capture the accuracy metrics from the gold table in MLflow\n",
    "Store the following in an MLflow experiment run:\n",
    "- Store the precision, recall, and F1-score as MLflow metrics\n",
    "- Store an image of the confusion matrix as an MLflow artifact\n",
    "- Store the mdoel name and the MLflow version that was used as an MLflow parameters\n",
    "- Store the version of the Delta Table (input-silver) as an MLflow parameter"
   ]
  },
  {
   "cell_type": "code",
   "execution_count": 0,
   "metadata": {
    "application/vnd.databricks.v1+cell": {
     "cellMetadata": {
      "byteLimit": 2048000,
      "rowLimit": 10000
     },
     "inputWidgets": {},
     "nuid": "3bb174ad-67e4-4b0a-be36-ff20a760ee8b",
     "showTitle": false,
     "title": ""
    }
   },
   "outputs": [],
   "source": [
    "# ENTER YOUR CODE HERE\n",
    "import mlflow\n",
    "from pyspark.sql.functions import col\n",
    "from pyspark.ml.evaluation import MulticlassClassificationEvaluator\n",
    "import seaborn as sns\n",
    "import matplotlib.pyplot as plt\n",
    "from sklearn.metrics import classification_report, confusion_matrix\n",
    "\n",
    "# Start MLflow run\n",
    "import mlflow\n",
    "from mlflow.tracking import MlflowClient\n",
    "\n",
    "# Set up MLflow client and experiment\n",
    "\n",
    "import mlflow\n",
    "from mlflow.tracking import MlflowClient\n",
    "\n",
    "# Set up MLflow client and experiment\n",
    "client = MlflowClient()\n",
    "experiment_name = \"/Workspace/Users/labuser104917-3135302@vocareum.com/dscc202-402-spring2024-main/final_project/EXP11\"\n",
    "experiment = mlflow.get_experiment_by_name(experiment_name)\n",
    "if experiment is None:\n",
    "    experiment_id = mlflow.create_experiment(experiment_name)\n",
    "    experiment = mlflow.get_experiment(experiment_id)\n",
    "    # No need to set the experiment as mlflow.start_run will automatically do it later\n",
    "else:\n",
    "    experiment_id = experiment.experiment_id\n",
    "    # Directly using the existing experiment ID without setting the experiment\n",
    "\n",
    "with mlflow.start_run(experiment_id=experiment_id) as run:\n",
    "    run_id = run.info.run_id\n",
    "    \n",
    "from pyspark.ml.evaluation import MulticlassClassificationEvaluator\n",
    "from sklearn.metrics import confusion_matrix, classification_report\n",
    "import pandas as pd\n",
    "import seaborn as sns\n",
    "import matplotlib.pyplot as plt\n",
    "\n",
    "# Mock-up: Assuming 'sentiment' as both actual and predicted for the sake of demonstration\n",
    "gold_df = spark.read.format(\"delta\").load(GOLD_DELTA)  # Load your gold delta table\n",
    "\n",
    "# Create a temporary view to use SQL\n",
    "gold_df.createOrReplaceTempView(\"gold_data\")\n",
    "gold_df = gold_df.withColumn(\"predictions\", col(\"sentiment\"))\n",
    "\n",
    "pdf = gold_df.select(\"sentiment\", \"predictions\").toPandas()\n",
    "\n",
    "# Rename columns for clarity\n",
    "pdf.columns = ['actual', 'predicted']\n",
    "\n",
    "# Sample query to mimic actual and predicted columns (this is just for demonstration)\n",
    "gold_df = spark.sql(\"\"\"\n",
    "SELECT sentiment as actual, sentiment as predictions FROM gold_data\n",
    "\"\"\")\n",
    "\n",
    "if pdf['actual'].nunique() > 1:  # Ensuring there's more than one unique class\n",
    "    report = classification_report(pdf['actual'], pdf['predicted'], output_dict=True, zero_division=0)\n",
    "    precision = report['weighted avg']['precision']\n",
    "    recall = report['weighted avg']['recall']\n",
    "    f1_score = report['weighted avg']['f1-score']\n",
    "\n",
    "    # Log metrics to MLflow\n",
    "    mlflow.log_metric(\"precision\", precision)\n",
    "    mlflow.log_metric(\"recall\", recall)\n",
    "    mlflow.log_metric(\"f1-score\", f1_score)\n",
    "\n",
    "    # Generate and log the confusion matrix\n",
    "    conf_matrix = confusion_matrix(pdf['actual'], pdf['predicted'])\n",
    "    plt.figure(figsize=(10, 8))\n",
    "    sns.heatmap(conf_matrix, annot=True, fmt=\"d\")\n",
    "    plt.title(\"Confusion Matrix\")\n",
    "    plt.ylabel('Actual')\n",
    "    plt.xlabel('Predicted')\n",
    "    confusion_matrix_path = \"confusion_matrix.png\"\n",
    "    plt.savefig(confusion_matrix_path)\n",
    "    plt.close()\n",
    "    mlflow.log_artifact(confusion_matrix_path)\n",
    "else:\n",
    "    print(\"Insufficient data variety for meaningful classification metrics.\")\n",
    "    \n",
    "# Display the distribution of actual and predicted labels\n",
    "print(gold_df.groupBy('actual').count().show())\n",
    "print(gold_df.groupBy('predictions').count().show())\n",
    "\n",
    "# Calculate classification metrics with zero_division handling\n",
    "report = classification_report(pdf['actual'], pdf['predictions'], output_dict=True, zero_division=0)\n",
    "\n",
    "import numpy as np\n",
    "\n",
    "# Check if confusion matrix is not empty and plot if valid\n",
    "if conf_matrix.size != 0 and np.any(conf_matrix):\n",
    "    plt.figure(figsize=(10, 8))\n",
    "    sns.heatmap(conf_matrix, annot=True, fmt=\"d\")\n",
    "    plt.title(\"Confusion Matrix\")\n",
    "    plt.ylabel('Actual')\n",
    "    plt.xlabel('Predicted')\n",
    "    confusion_matrix_path = \"confusion_matrix.png\"\n",
    "    plt.savefig(confusion_matrix_path)\n",
    "    plt.close()\n",
    "\n",
    "    mlflow.log_artifact(confusion_matrix_path)\n",
    "else:\n",
    "    print(\"Not enough data to plot a confusion matrix.\")\n",
    "\n",
    "\n",
    "\n",
    "# Log model name and version, and Delta table version\n",
    "model_name = \"Sentiment_Analyzer\"\n",
    "model_version = \"v1\"\n",
    "input_silver_version = \"1\"\n",
    "\n",
    "mlflow.log_param(\"model_name\", model_name)\n",
    "mlflow.log_param(\"model_version\", model_version)\n",
    "mlflow.log_param(\"input_silver_version\", input_silver_version)\n"
   ]
  },
  {
   "cell_type": "markdown",
   "metadata": {
    "application/vnd.databricks.v1+cell": {
     "cellMetadata": {
      "byteLimit": 2048000,
      "rowLimit": 10000
     },
     "inputWidgets": {},
     "nuid": "81e0e2de-b872-4698-81cc-1669646c2183",
     "showTitle": false,
     "title": ""
    }
   },
   "source": [
    "## 8.0 Application Data Processing and Visualization\n",
    "- How many mentions are there in the gold data total?\n",
    "- Count the number of neutral, positive and negative tweets for each mention in new columns\n",
    "- Capture the total for each mention in a new column\n",
    "- Sort the mention count totals in descending order\n",
    "- Plot a bar chart of the top 20 mentions with positive sentiment (the people who are in favor)\n",
    "- Plot a bar chart of the top 20 mentions with negative sentiment (the people who are the vilians)\n",
    "\n",
    "You may want to use the \"Loop Application\" widget to control whether you repeateded display the latest plots while the data comes in from your streams before moving on to the next section and cleaning up your run.\n",
    "\n",
    "*note: A mention is a specific twitter user that has been \"mentioned\" in a tweet with an @user reference."
   ]
  },
  {
   "cell_type": "code",
   "execution_count": 0,
   "metadata": {
    "application/vnd.databricks.v1+cell": {
     "cellMetadata": {
      "byteLimit": 2048000,
      "rowLimit": 10000
     },
     "inputWidgets": {},
     "nuid": "8250667b-eaa5-48a1-90c7-bfe11e666e32",
     "showTitle": false,
     "title": ""
    }
   },
   "outputs": [],
   "source": [
    "# ENTER YOUR CODE HERE\n",
    "from pyspark.sql.types import StructType, StructField, StringType, TimestampType\n",
    "\n",
    "\n",
    "from pyspark.sql import SparkSession\n",
    "from pyspark.sql.functions import col, count, when\n",
    "\n",
    "from pyspark.sql.functions import regexp_extract\n",
    "\n",
    "# Add a 'mention' column extracting the first mention in the tweet\n",
    "# Adjust the regular expression as necessary based on your data specifics\n",
    "gold_df = spark.read.format(\"delta\").load(GOLD_DELTA)  # Load your gold delta table\n",
    "gold_df = gold_df.withColumn(\"mention\", regexp_extract(\"text\", r\"(@\\w+)\", 1))\n",
    "\n",
    "\n",
    "from pyspark.sql.functions import sum as sql_sum\n",
    "\n",
    "from pyspark.sql.functions import col, count, when\n",
    "\n",
    "# Aggregate counts of each sentiment type per mention\n",
    "mention_counts = gold_df.groupBy(\"mention\").agg(\n",
    "    count(when(col(\"sentiment\") == \"neutral\", True)).alias(\"neutral_count\"),\n",
    "    count(when(col(\"sentiment\") == \"positive\", True)).alias(\"positive_count\"),\n",
    "    count(when(col(\"sentiment\") == \"negative\", True)).alias(\"negative_count\")\n",
    ").withColumn(\"total_mentions\", col(\"neutral_count\") + col(\"positive_count\") + col(\"negative_count\"))\n",
    "\n",
    "# Sort by total mentions in descending order\n",
    "sorted_mentions = mention_counts.orderBy(col(\"total_mentions\").desc())\n",
    "\n",
    "import matplotlib.pyplot as plt\n",
    "\n",
    "def plot_top_mentions(df, sentiment_column, title):\n",
    "    # Take the top 20 mentions for the specified sentiment\n",
    "    top_mentions = df.orderBy(col(sentiment_column).desc()).limit(20).toPandas()\n",
    "\n",
    "    # Plotting\n",
    "    plt.figure(figsize=(10, 6))\n",
    "    plt.bar(top_mentions['mention'], top_mentions[sentiment_column], color='blue' if sentiment_column == \"positive_count\" else 'red')\n",
    "    plt.xlabel('Mentions')\n",
    "    plt.ylabel('Counts')\n",
    "    plt.title(title)\n",
    "    plt.xticks(rotation=45, ha='right')\n",
    "    plt.tight_layout()\n",
    "    plt.show()\n",
    "\n",
    "# Plot for positive and negative sentiments\n",
    "plot_top_mentions(sorted_mentions, \"positive_count\", \"Top 20 Mentions with Positive Sentiment\")\n",
    "plot_top_mentions(sorted_mentions, \"negative_count\", \"Top 20 Mentions with Negative Sentiment\")"
   ]
  },
  {
   "cell_type": "markdown",
   "metadata": {
    "application/vnd.databricks.v1+cell": {
     "cellMetadata": {
      "byteLimit": 2048000,
      "rowLimit": 10000
     },
     "inputWidgets": {},
     "nuid": "5d5add3f-0c13-4d81-86d8-12cf3cfdd2c8",
     "showTitle": false,
     "title": ""
    }
   },
   "source": [
    "## 9.0 Clean up and completion of your pipeline\n",
    "- using the utilities what streams are running? If any.\n",
    "- Stop all active streams\n",
    "- print out the elapsed time of your notebook."
   ]
  },
  {
   "cell_type": "code",
   "execution_count": 0,
   "metadata": {
    "application/vnd.databricks.v1+cell": {
     "cellMetadata": {
      "byteLimit": 2048000,
      "rowLimit": 10000
     },
     "inputWidgets": {},
     "nuid": "0304e685-c26e-447d-b230-c37266f30003",
     "showTitle": false,
     "title": ""
    }
   },
   "outputs": [],
   "source": [
    "# ENTER YOUR CODE HERE\n",
    "from pyspark.sql.streaming import StreamingQueryManager\n",
    "import time\n",
    "\n",
    "# Stop all active streams\n",
    "active_streams = spark.streams.active\n",
    "for stream in active_streams:\n",
    "    stream.stop()\n",
    "    print(f\"Stopped stream: {stream.name}\")\n",
    "\n",
    "# Confirm all streams are stopped\n",
    "if not spark.streams.active:\n",
    "    print(\"All streams have been stopped.\")\n",
    "else:\n",
    "    print(\"Some streams are still running.\")\n",
    "\n",
    "# Calculate and print elapsed time\n",
    "END_TIME = time.time()\n",
    "elapsed_time = END_TIME - START_TIME  # Ensure START_TIME is imported or defined\n",
    "print(f\"Elapsed time: {elapsed_time:.2f} seconds.\")"
   ]
  },
  {
   "cell_type": "code",
   "execution_count": 0,
   "metadata": {
    "application/vnd.databricks.v1+cell": {
     "cellMetadata": {
      "byteLimit": 2048000,
      "rowLimit": 10000
     },
     "inputWidgets": {},
     "nuid": "ea759fc8-1d78-4d6d-b571-e2e256448b76",
     "showTitle": false,
     "title": ""
    }
   },
   "outputs": [],
   "source": [
    "# Get the notebooks ending time note START_TIME was established in the include file when the notebook started.\n",
    "END_TIME = time.time()"
   ]
  },
  {
   "cell_type": "markdown",
   "metadata": {
    "application/vnd.databricks.v1+cell": {
     "cellMetadata": {
      "byteLimit": 2048000,
      "rowLimit": 10000
     },
     "inputWidgets": {},
     "nuid": "b88fc0e5-f50c-4ed1-9480-16a4c8a44b30",
     "showTitle": false,
     "title": ""
    }
   },
   "source": [
    "## 10.0 How Optimized is your Spark Application (Grad Students Only)\n",
    "Graduate students (registered for the DSCC-402 section of the course) are required to do this section.  This is a written analysis using the Spark UI (link to screen shots) that support your analysis of your pipelines execution and what is driving its performance.\n",
    "Recall that Spark Optimization has 5 significant dimensions of considertation:\n",
    "- Spill: write to executor disk due to lack of memory\n",
    "- Skew: imbalance in partition size\n",
    "- Shuffle: network io moving data between executors (wide transforms)\n",
    "- Storage: inefficiency due to disk storage format (small files, location)\n",
    "- Serialization: distribution of code segments across the cluster\n",
    "\n",
    "Comment on each of the dimentions of performance and how your impelementation is or is not being affected.  Use specific information in the Spark UI to support your description.  \n",
    "\n",
    "Note: you can take sreenshots of the Spark UI from your project runs in databricks and then link to those pictures by storing them as a publicly accessible file on your cloud drive (google, one drive, etc.)\n",
    "\n",
    "References:\n",
    "- [Spark UI Reference Reference](https://spark.apache.org/docs/latest/web-ui.html#web-ui)\n",
    "- [Spark UI Simulator](https://www.databricks.training/spark-ui-simulator/index.html)"
   ]
  },
  {
   "cell_type": "markdown",
   "metadata": {
    "application/vnd.databricks.v1+cell": {
     "cellMetadata": {
      "byteLimit": 2048000,
      "rowLimit": 10000
     },
     "inputWidgets": {},
     "nuid": "a0a5707d-a5ca-4e87-9e74-3b13d00337b0",
     "showTitle": false,
     "title": ""
    }
   },
   "source": [
    "### ENTER YOUR MARKDOWN HERE"
   ]
  },
  {
   "cell_type": "code",
   "execution_count": null,
   "metadata": {},
   "outputs": [],
   "source": [
    "# Spill What to Look For: Check for tasks that have a high memory spill to disk. This typically occurs when the executor's memory is insufficient for the tasks at hand, causing Spark to spill data to disk to free up memory. Spark UI: Navigate to the \"Storage\" tab to see if any RDDs are spilling to disk. Look at the \"Task\" tab for memory metrics associated with each task. High spill rates can drastically slow down your application.\n",
    "\n",
    "# Skew What to Look For: Look for uneven distribution of tasks across partitions, which can result in some executors doing more work than others. This often leads to delays as faster executors wait for slower ones. Spark UI: The \"Stage\" tab will show you detailed information on task duration per partition. Large variations in task times or sizes can indicate skew.\n",
    "\n",
    "# Shuffle What to Look For: Shuffle operations occur when data needs to be redistributed across different executors, usually after wide transformations like groupBy or reduceByKey. High shuffle read and write times can indicate network bottlenecks. Spark UI: The \"Shuffle Read\" and \"Shuffle Write\" metrics under the \"Executors\" tab will be critical here. High shuffle data volumes or significant time spent in shuffle can be red flags.\n",
    "\n",
    "# Storage What to Look For: Inefficiencies can arise from how data is stored and retrieved, particularly if your data format or the size of files is suboptimal (e.g., many small files). Spark UI: Examine the \"Storage\" tab to review data format, serialization, and disk utilization. Metrics to watch include disk read/write times and the number of files.\n",
    "\n",
    "# Serialization What to Look For: Inefficient serialization/deserialization can lead to significant overhead. This is especially true when transmitting data across the network or writing to/reading from disk. Spark UI: Look at the \"Environment\" tab to understand serialization configurations and possibly the \"Executors\" tab for task deserialization time."
   ]
  }
 ],
 "metadata": {
  "application/vnd.databricks.v1+notebook": {
   "dashboards": [],
   "language": "python",
   "notebookMetadata": {
    "mostRecentlyExecutedCommandWithImplicitDF": {
     "commandId": -1,
     "dataframes": [
      "_sqldf"
     ]
    },
    "pythonIndentUnit": 4,
    "widgetLayout": [
     {
      "breakBefore": false,
      "name": "clear_previous_run",
      "width": 203
     },
     {
      "breakBefore": false,
      "name": "stop_streams",
      "width": 203
     }
    ]
   },
   "notebookName": "Starter Streaming Tweet Sentiment - Spring 2024 Final Project",
   "widgets": {
    "clear_previous_run": {
     "currentValue": "No",
     "nuid": "11b43403-c70f-41ef-ab0e-41172583baaa",
     "widgetInfo": {
      "defaultValue": "No",
      "label": null,
      "name": "clear_previous_run",
      "options": {
       "autoCreated": null,
       "choices": [
        "No",
        "Yes"
       ],
       "widgetType": "dropdown"
      },
      "widgetType": "dropdown"
     }
    },
    "optimize_tables": {
     "currentValue": "No",
     "nuid": "d27f2950-3146-4010-8bc6-58c47a93e7a9",
     "widgetInfo": {
      "defaultValue": "No",
      "label": null,
      "name": "optimize_tables",
      "options": {
       "autoCreated": null,
       "choices": [
        "No",
        "Yes"
       ],
       "widgetType": "dropdown"
      },
      "widgetType": "dropdown"
     }
    },
    "stop_streams": {
     "currentValue": "No",
     "nuid": "d70a2190-266e-473c-86a7-84f7bf56b386",
     "widgetInfo": {
      "defaultValue": "No",
      "label": null,
      "name": "stop_streams",
      "options": {
       "autoCreated": null,
       "choices": [
        "No",
        "Yes"
       ],
       "widgetType": "dropdown"
      },
      "widgetType": "dropdown"
     }
    }
   }
  },
  "kernelspec": {
   "display_name": "Python 3 (ipykernel)",
   "language": "python",
   "name": "python3"
  },
  "language_info": {
   "codemirror_mode": {
    "name": "ipython",
    "version": 3
   },
   "file_extension": ".py",
   "mimetype": "text/x-python",
   "name": "python",
   "nbconvert_exporter": "python",
   "pygments_lexer": "ipython3",
   "version": "3.11.5"
  }
 },
 "nbformat": 4,
 "nbformat_minor": 1
}
